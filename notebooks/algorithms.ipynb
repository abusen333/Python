{
  "cells": [
    {
      "cell_type": "markdown",
      "metadata": {
        "id": "Um4Xbfi-ANvi"
      },
      "source": [
        "# Algorithms"
      ]
    },
    {
      "cell_type": "markdown",
      "metadata": {
        "id": "xe5S2z4CANvm"
      },
      "source": [
        "[Click here to run this chapter on Colab](https://colab.research.google.com/github/AllenDowney/DSIRP/blob/main/notebooks/algorithms.ipynb)"
      ]
    },
    {
      "cell_type": "markdown",
      "metadata": {
        "id": "3imdGdsZANvo"
      },
      "source": [
        "## Searching for anagrams\n",
        "\n",
        "In this notebook we'll implement algorithms for two tasks:\n",
        "\n",
        "* Testing a pair of words to see if they are anagrams of each other, that is, if you can rearrange the letters in one word to spell the other.\n",
        "\n",
        "* Searching a list of words for all pairs that are anagrams of each other.\n",
        "\n",
        "There is a point to these examples, which I will explain at the end."
      ]
    },
    {
      "cell_type": "markdown",
      "metadata": {
        "id": "2fTkI2EdANvo"
      },
      "source": [
        "**Exercise 1:** Write a function that takes two words and returns `True` if they are anagrams. Test your function with the examples below."
      ]
    },
    {
      "cell_type": "code",
      "execution_count": 38,
      "metadata": {
        "id": "xUzCBf0VANvp"
      },
      "outputs": [],
      "source": [
        "def is_anagram(word1, word2):\n",
        "    # convert both words to lowercase and sort the letters\n",
        "    word1 = word1.lower()\n",
        "    word2 = word2.lower()\n",
        "    word1_sorted = sorted(word1)\n",
        "    word2_sorted = sorted(word2)\n",
        "\n",
        "    # return whether the sorted words are the same\n",
        "    return word1_sorted == word2_sorted"
      ]
    },
    {
      "cell_type": "code",
      "execution_count": 39,
      "metadata": {
        "colab": {
          "base_uri": "https://localhost:8080/"
        },
        "id": "zuB0KaA8ANvr",
        "outputId": "2464dcb0-0908-43c7-c123-9146feb33633"
      },
      "outputs": [
        {
          "output_type": "execute_result",
          "data": {
            "text/plain": [
              "True"
            ]
          },
          "metadata": {},
          "execution_count": 39
        }
      ],
      "source": [
        "is_anagram('tachymetric', 'mccarthyite') # True"
      ]
    },
    {
      "cell_type": "code",
      "execution_count": 24,
      "metadata": {
        "colab": {
          "base_uri": "https://localhost:8080/"
        },
        "id": "lzWCb2YSANvr",
        "outputId": "a9665365-eeef-4a2d-cbf0-649f8833919e"
      },
      "outputs": [
        {
          "output_type": "execute_result",
          "data": {
            "text/plain": [
              "False"
            ]
          },
          "metadata": {},
          "execution_count": 24
        }
      ],
      "source": [
        "is_anagram('post', 'top') # False, letter not present"
      ]
    },
    {
      "cell_type": "code",
      "execution_count": 25,
      "metadata": {
        "colab": {
          "base_uri": "https://localhost:8080/"
        },
        "id": "4btDZ6M4ANvs",
        "outputId": "80591289-a3dd-48d0-bebf-fd4e397fb2fa"
      },
      "outputs": [
        {
          "output_type": "execute_result",
          "data": {
            "text/plain": [
              "False"
            ]
          },
          "metadata": {},
          "execution_count": 25
        }
      ],
      "source": [
        "is_anagram('pott', 'top') # False, letter present but not enough copies"
      ]
    },
    {
      "cell_type": "code",
      "execution_count": 26,
      "metadata": {
        "colab": {
          "base_uri": "https://localhost:8080/"
        },
        "id": "3eQ5NiZrANvs",
        "outputId": "76f26f42-f696-410d-c915-ff40c6d8d4b1"
      },
      "outputs": [
        {
          "output_type": "execute_result",
          "data": {
            "text/plain": [
              "False"
            ]
          },
          "metadata": {},
          "execution_count": 26
        }
      ],
      "source": [
        "is_anagram('top', 'post') # False, letters left over at the end"
      ]
    },
    {
      "cell_type": "code",
      "execution_count": 27,
      "metadata": {
        "colab": {
          "base_uri": "https://localhost:8080/"
        },
        "id": "h5uwG7s9ANvs",
        "outputId": "0589ccd7-c0a1-400c-bcb5-952bc1847e4a"
      },
      "outputs": [
        {
          "output_type": "execute_result",
          "data": {
            "text/plain": [
              "False"
            ]
          },
          "metadata": {},
          "execution_count": 27
        }
      ],
      "source": [
        "is_anagram('topss', 'postt') # False"
      ]
    },
    {
      "cell_type": "markdown",
      "metadata": {
        "id": "i5QN61V3ANvt"
      },
      "source": [
        "**Exercise 2:** Use `timeit` to see how fast your function is for these examples:"
      ]
    },
    {
      "cell_type": "code",
      "execution_count": 30,
      "metadata": {
        "colab": {
          "base_uri": "https://localhost:8080/"
        },
        "id": "L0GMVILqANvt",
        "outputId": "fbe90535-f556-49ad-a3f6-e183a2cc4896"
      },
      "outputs": [
        {
          "output_type": "stream",
          "name": "stdout",
          "text": [
            "775 ns ± 8.83 ns per loop (mean ± std. dev. of 7 runs, 1000000 loops each)\n"
          ]
        }
      ],
      "source": [
        "%timeit is_anagram('tops', 'spot')"
      ]
    },
    {
      "cell_type": "code",
      "execution_count": 31,
      "metadata": {
        "colab": {
          "base_uri": "https://localhost:8080/"
        },
        "id": "MWxcyMgiANvt",
        "outputId": "168795fa-6f21-4bd8-8e0d-7f2c3ef90c8a"
      },
      "outputs": [
        {
          "output_type": "stream",
          "name": "stdout",
          "text": [
            "1.26 µs ± 13.9 ns per loop (mean ± std. dev. of 7 runs, 1000000 loops each)\n"
          ]
        }
      ],
      "source": [
        "%timeit is_anagram('tachymetric', 'mccarthyite')"
      ]
    },
    {
      "cell_type": "markdown",
      "metadata": {
        "id": "2_iGnTljANvt"
      },
      "source": [
        "How can we compare algorithms running on different computers?"
      ]
    },
    {
      "cell_type": "markdown",
      "metadata": {
        "id": "PNCrTqyWANvu"
      },
      "source": [
        "## Searching for anagram pairs"
      ]
    },
    {
      "cell_type": "markdown",
      "metadata": {
        "id": "05rhiojYANvu"
      },
      "source": [
        "**Exercise 3:** Write a function that takes a word list and returns a list of all anagram pairs."
      ]
    },
    {
      "cell_type": "code",
      "execution_count": null,
      "metadata": {
        "id": "pl4mr8eiANvu"
      },
      "outputs": [],
      "source": [
        "short_word_list = ['proudest', 'stop', 'pots', 'tops', 'sprouted']"
      ]
    },
    {
      "cell_type": "code",
      "execution_count": null,
      "metadata": {
        "id": "W3AfkciRANvu"
      },
      "outputs": [],
      "source": [
        "def all_anagram_pairs(word_list):\n",
        "    return []"
      ]
    },
    {
      "cell_type": "code",
      "execution_count": null,
      "metadata": {
        "id": "lx6LwdbRANvv"
      },
      "outputs": [],
      "source": []
    },
    {
      "cell_type": "code",
      "execution_count": null,
      "metadata": {
        "id": "_-TUNz_6ANvv"
      },
      "outputs": [],
      "source": [
        "all_anagram_pairs(short_word_list)"
      ]
    },
    {
      "cell_type": "markdown",
      "metadata": {
        "id": "EjlD_6wFANvv"
      },
      "source": [
        "The following cell downloads a file containing a list of English words."
      ]
    },
    {
      "cell_type": "code",
      "execution_count": null,
      "metadata": {
        "id": "innWU2hcANvv"
      },
      "outputs": [],
      "source": [
        "from os.path import basename, exists\n",
        "\n",
        "def download(url):\n",
        "    filename = basename(url)\n",
        "    if not exists(filename):\n",
        "        from urllib.request import urlretrieve\n",
        "        local, _ = urlretrieve(url, filename)\n",
        "        print('Downloaded ' + local)\n",
        "    \n",
        "download('https://github.com/AllenDowney/DSIRP/raw/main/american-english')"
      ]
    },
    {
      "cell_type": "markdown",
      "metadata": {
        "id": "URGxd7xcANvw"
      },
      "source": [
        "The following function reads a file and returns a set of words (I used a set because after we convert words to lower case, there are some repeats.)"
      ]
    },
    {
      "cell_type": "code",
      "execution_count": null,
      "metadata": {
        "id": "2ZMbIkQOANvw"
      },
      "outputs": [],
      "source": [
        "def read_words(filename):\n",
        "    \"\"\"Read lines from a file and split them into words.\"\"\"\n",
        "    res = set()\n",
        "    for line in open(filename):\n",
        "        for word in line.split():\n",
        "            res.add(word.strip().lower())\n",
        "    return res"
      ]
    },
    {
      "cell_type": "code",
      "execution_count": null,
      "metadata": {
        "id": "C2sKc_z3ANvw"
      },
      "outputs": [],
      "source": [
        "word_list = read_words('american-english')\n",
        "len(word_list)"
      ]
    },
    {
      "cell_type": "markdown",
      "metadata": {
        "id": "GV4WERVeANvw"
      },
      "source": [
        "**Exercise 4:** Loop through the word list and print all words that are anagrams of `stop`."
      ]
    },
    {
      "cell_type": "code",
      "execution_count": null,
      "metadata": {
        "id": "ZrsJyXSSANvw"
      },
      "outputs": [],
      "source": []
    },
    {
      "cell_type": "markdown",
      "metadata": {
        "id": "deKlpOWOANvw"
      },
      "source": [
        "Now run `all_anagram_pairs` with the full `word_list`:"
      ]
    },
    {
      "cell_type": "code",
      "execution_count": null,
      "metadata": {
        "id": "NMSPneERANvw"
      },
      "outputs": [],
      "source": [
        "# pairs = all_anagram_pairs(word_list)"
      ]
    },
    {
      "cell_type": "markdown",
      "metadata": {
        "id": "4vwTWQD8ANvw"
      },
      "source": [
        "**Exercise 5:** While that's running, let's estimate how long it's going to take."
      ]
    },
    {
      "cell_type": "code",
      "execution_count": null,
      "metadata": {
        "id": "aVNnVrdtANvx"
      },
      "outputs": [],
      "source": []
    },
    {
      "cell_type": "markdown",
      "metadata": {
        "id": "K5SqALaGANvx"
      },
      "source": [
        "## A better algorithm\n",
        "\n",
        "**Exercise 6:** Write a better algorithm! Hint: make a dictionary. How much faster is your algorithm?"
      ]
    },
    {
      "cell_type": "code",
      "execution_count": null,
      "metadata": {
        "id": "kToPBYGfANvx"
      },
      "outputs": [],
      "source": [
        "def all_anagram_lists(word_list):\n",
        "    \"\"\"Finds all anagrams in a list of words.\n",
        "\n",
        "    word_list: sequence of strings\n",
        "    \"\"\"\n",
        "    return {}"
      ]
    },
    {
      "cell_type": "code",
      "execution_count": null,
      "metadata": {
        "id": "TmOMqmsTANvx"
      },
      "outputs": [],
      "source": []
    },
    {
      "cell_type": "code",
      "execution_count": null,
      "metadata": {
        "id": "mNttTqVqANvx"
      },
      "outputs": [],
      "source": [
        "%time anagram_map = all_anagram_lists(word_list)"
      ]
    },
    {
      "cell_type": "code",
      "execution_count": null,
      "metadata": {
        "id": "aQLOrVPHANvx"
      },
      "outputs": [],
      "source": [
        "len(anagram_map)"
      ]
    },
    {
      "cell_type": "code",
      "execution_count": null,
      "metadata": {
        "id": "SYhQAxIBANvx"
      },
      "outputs": [],
      "source": []
    },
    {
      "cell_type": "markdown",
      "metadata": {
        "id": "EghAwwJCANvy"
      },
      "source": [
        "## Summary\n",
        "\n",
        "What is the point of the examples in this notebook?\n",
        "\n",
        "* The different versions of `is_anagram` show that, when inputs are small, it is hard to say which algorithm will be the fastest. It often depends on details of the implementation. Anyway, the differences tend to be small, so it might not matter much in practice.\n",
        "\n",
        "* The different algorithms we used to search for anagram pairs show that, when inputs are large, we can often tell which algorithm will be fastest. And the difference between a fast algorithm and a slow one can be huge!"
      ]
    },
    {
      "cell_type": "markdown",
      "metadata": {
        "id": "LFX9eZOsANvy"
      },
      "source": [
        "## Exercises\n",
        "\n",
        "Before you work on these exercises, you might want to read the Python [Sorting How-To](https://docs.python.org/3/howto/sorting.html). It uses `lambda` to define an anonymous function, which [you can read about here](https://www.w3schools.com/python/python_lambda.asp).\n",
        "\n",
        "**Exercise 7:**\n",
        "Make a dictionary like `anagram_map` that contains only keys that map to a list with more than one element. You can use a `for` loop to make a new dictionary, or a [dictionary comprehension](https://www.freecodecamp.org/news/dictionary-comprehension-in-python-explained-with-examples/)."
      ]
    },
    {
      "cell_type": "code",
      "execution_count": null,
      "metadata": {
        "id": "iVfSlDJIANvy"
      },
      "outputs": [],
      "source": []
    },
    {
      "cell_type": "markdown",
      "metadata": {
        "id": "6T9LY_E9ANvy"
      },
      "source": [
        "**Exercise 8:**\n",
        "Find the longest word with at least one anagram. Suggestion: use the `key` argument of `sort` or `sorted` ([see here](https://stackoverflow.com/questions/8966538/syntax-behind-sortedkey-lambda))."
      ]
    },
    {
      "cell_type": "code",
      "execution_count": null,
      "metadata": {
        "id": "-dgeRDZ-ANvz"
      },
      "outputs": [],
      "source": []
    },
    {
      "cell_type": "markdown",
      "metadata": {
        "id": "9nrym-jAANv0"
      },
      "source": [
        "**Exercise 9:**\n",
        "Find the largest list of words that are anagrams of each other."
      ]
    },
    {
      "cell_type": "code",
      "execution_count": null,
      "metadata": {
        "id": "ypVjfu6qANv0"
      },
      "outputs": [],
      "source": []
    },
    {
      "cell_type": "markdown",
      "metadata": {
        "id": "GKqiEM3sANv0"
      },
      "source": [
        "**Exercise 10:**\n",
        "Write a function that takes an integer `word_length` and finds the longest list of words with the given length that are anagrams of each other."
      ]
    },
    {
      "cell_type": "code",
      "execution_count": null,
      "metadata": {
        "id": "O_bTul64ANv0"
      },
      "outputs": [],
      "source": []
    },
    {
      "cell_type": "code",
      "execution_count": null,
      "metadata": {
        "id": "UkFfRl5zANv0"
      },
      "outputs": [],
      "source": []
    },
    {
      "cell_type": "markdown",
      "metadata": {
        "id": "X7Fyx_k7ANv0"
      },
      "source": [
        "**Exercise 11:**\n",
        "At this point we have a data structure that contains lists of words that are anagrams, but we have not actually enumerated all pairs.\n",
        "Write a function that takes `anagram_map` and returns a list of all anagram pairs.\n",
        "How many are there?"
      ]
    },
    {
      "cell_type": "code",
      "execution_count": null,
      "metadata": {
        "id": "8lXYpdVtANv0"
      },
      "outputs": [],
      "source": []
    },
    {
      "cell_type": "code",
      "execution_count": null,
      "metadata": {
        "id": "SPL-kSCgANv0"
      },
      "outputs": [],
      "source": []
    },
    {
      "cell_type": "code",
      "execution_count": null,
      "metadata": {
        "id": "glnSW8guANv0"
      },
      "outputs": [],
      "source": []
    },
    {
      "cell_type": "code",
      "execution_count": null,
      "metadata": {
        "id": "bzqPS38lANv1"
      },
      "outputs": [],
      "source": []
    },
    {
      "cell_type": "markdown",
      "metadata": {
        "id": "Kc8BIUDtANv1"
      },
      "source": [
        "*Data Structures and Information Retrieval in Python*\n",
        "\n",
        "Copyright 2021 Allen Downey\n",
        "\n",
        "License: [Creative Commons Attribution-NonCommercial-ShareAlike 4.0 International](https://creativecommons.org/licenses/by-nc-sa/4.0/)"
      ]
    }
  ],
  "metadata": {
    "kernelspec": {
      "display_name": "Python 3 (ipykernel)",
      "language": "python",
      "name": "python3"
    },
    "language_info": {
      "codemirror_mode": {
        "name": "ipython",
        "version": 3
      },
      "file_extension": ".py",
      "mimetype": "text/x-python",
      "name": "python",
      "nbconvert_exporter": "python",
      "pygments_lexer": "ipython3",
      "version": "3.10.1"
    },
    "colab": {
      "provenance": []
    }
  },
  "nbformat": 4,
  "nbformat_minor": 0
}